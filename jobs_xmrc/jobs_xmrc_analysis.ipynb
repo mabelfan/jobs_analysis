{
 "cells": [
  {
   "cell_type": "markdown",
   "metadata": {},
   "source": [
    "## 厦门人才网招聘数据分析\n",
    "本数据来源于厦门人才网，网址：https://www.xmrc.com.cn     \n",
    "通过原创爬虫于2018-9-5至9-8爬取的厦门人才网一周内的招聘信息，爬虫代码已上传到GitHub,地址：https://github.com/MabelFan/crawl_web.git      \n",
    "\n",
    "数据的变量总共有18项，名称介绍如下：   \n",
    "1. 职位名称  \n",
    "2. 公司名称  \n",
    "3. 招聘日期  \n",
    "4. 截止日期  \n",
    "5. 招聘部门  \n",
    "6. 联系人  \n",
    "7. 通信地址  \n",
    "8. 学历要求  \n",
    "9. 性别要求  \n",
    "10. 职位性质     \n",
    "11. 招聘对象     \n",
    "12. 工作地点   \n",
    "13. 参考月薪   \n",
    "14. 上班时间    \n",
    "15. 上班天数   \n",
    "16. 薪资福利    \n",
    "17. 岗位职责    \n",
    "18. 电子邮件    "
   ]
  },
  {
   "cell_type": "markdown",
   "metadata": {},
   "source": [
    "### 导入库"
   ]
  },
  {
   "cell_type": "code",
   "execution_count": 1,
   "metadata": {},
   "outputs": [],
   "source": [
    "# Import libraries\n",
    "import os, re, jieba\n",
    "import pandas as pd\n",
    "import numpy as np\n",
    "import seaborn as sns\n",
    "import matplotlib.pyplot as plt\n",
    "from scipy.stats import norm\n",
    "from PIL import Image\n",
    "from scipy.misc import imread\n",
    "from wordcloud import WordCloud, ImageColorGenerator\n",
    "import folium\n",
    "from folium.plugins import HeatMap\n",
    "from pyecharts import Pie, Bar\n",
    "\n",
    "%matplotlib inline"
   ]
  },
  {
   "cell_type": "markdown",
   "metadata": {},
   "source": [
    "### 数据读取 "
   ]
  },
  {
   "cell_type": "code",
   "execution_count": 2,
   "metadata": {},
   "outputs": [],
   "source": [
    "jobs_xmrc = pd.read_csv('/Users/mabelfan/Documents/Python/Git/some_projects/jobs_xmrc/jobs_xmrc_OneWeek.csv')"
   ]
  },
  {
   "cell_type": "code",
   "execution_count": 3,
   "metadata": {},
   "outputs": [
    {
     "name": "stdout",
     "output_type": "stream",
     "text": [
      "<class 'pandas.core.frame.DataFrame'>\n",
      "RangeIndex: 110567 entries, 0 to 110566\n",
      "Data columns (total 18 columns):\n",
      "职位名称    110567 non-null object\n",
      "公司名称    110567 non-null object\n",
      "招聘日期    110567 non-null object\n",
      "截止日期    110567 non-null object\n",
      "招聘部门    44466 non-null object\n",
      "联系人     110566 non-null object\n",
      "通信地址    110566 non-null object\n",
      "学历要求    110567 non-null object\n",
      "性别要求    110567 non-null object\n",
      "职位性质    110567 non-null object\n",
      "招聘对象    110567 non-null object\n",
      "工作地点    110561 non-null object\n",
      "参考月薪    85945 non-null object\n",
      "上班时间    83395 non-null object\n",
      "上班天数    0 non-null float64\n",
      "薪资福利    86867 non-null object\n",
      "岗位职责    53271 non-null object\n",
      "电子邮件    34852 non-null object\n",
      "dtypes: float64(1), object(17)\n",
      "memory usage: 15.2+ MB\n"
     ]
    }
   ],
   "source": [
    "jobs_xmrc_clean = jobs_xmrc.copy()\n",
    "jobs_xmrc_clean.info()"
   ]
  },
  {
   "cell_type": "markdown",
   "metadata": {},
   "source": [
    "### 数据整理与清洗 "
   ]
  },
  {
   "cell_type": "markdown",
   "metadata": {},
   "source": [
    "1.重复值   \n",
    "以公司名称、职位名称、通信地址、工作地点和参考月薪为主要目标来确认是否为重复招聘岗位。   "
   ]
  },
  {
   "cell_type": "code",
   "execution_count": 4,
   "metadata": {},
   "outputs": [
    {
     "name": "stdout",
     "output_type": "stream",
     "text": [
      "爬取的原数据总数： 110567\n"
     ]
    }
   ],
   "source": [
    "print('爬取的原数据总数：',len(jobs_xmrc_clean))"
   ]
  },
  {
   "cell_type": "code",
   "execution_count": 5,
   "metadata": {},
   "outputs": [
    {
     "data": {
      "text/plain": [
       "47731"
      ]
     },
     "execution_count": 5,
     "metadata": {},
     "output_type": "execute_result"
    }
   ],
   "source": [
    "sum(jobs_xmrc_clean.duplicated(['职位名称','公司名称','招聘部门','通信地址','招聘对象','工作地点','参考月薪']))"
   ]
  },
  {
   "cell_type": "code",
   "execution_count": 6,
   "metadata": {},
   "outputs": [
    {
     "name": "stdout",
     "output_type": "stream",
     "text": [
      "一周内岗位重复率高达：43.17%\n"
     ]
    }
   ],
   "source": [
    "print(\"一周内岗位重复率高达：{:.2f}\".format((47731/110567)*100)+\"%\")"
   ]
  },
  {
   "cell_type": "code",
   "execution_count": 7,
   "metadata": {},
   "outputs": [
    {
     "data": {
      "text/plain": [
       "0"
      ]
     },
     "execution_count": 7,
     "metadata": {},
     "output_type": "execute_result"
    }
   ],
   "source": [
    "jobs_xmrc_clean.drop_duplicates(['职位名称','公司名称','招聘部门','通信地址','招聘对象','工作地点','参考月薪'],inplace=True)\n",
    "sum(jobs_xmrc_clean.duplicated(['职位名称','公司名称','招聘部门','通信地址','招聘对象','工作地点','参考月薪']))"
   ]
  },
  {
   "cell_type": "code",
   "execution_count": 8,
   "metadata": {},
   "outputs": [
    {
     "name": "stdout",
     "output_type": "stream",
     "text": [
      "删除重复值后的数据总数： 62836\n"
     ]
    }
   ],
   "source": [
    "print('删除重复值后的数据总数：',len(jobs_xmrc_clean))"
   ]
  },
  {
   "cell_type": "markdown",
   "metadata": {},
   "source": [
    "2.空值、缺失值处理"
   ]
  },
  {
   "cell_type": "code",
   "execution_count": 9,
   "metadata": {},
   "outputs": [
    {
     "data": {
      "text/plain": [
       "['招聘部门', '联系人', '通信地址', '工作地点', '参考月薪', '上班时间', '上班天数', '薪资福利', '岗位职责', '电子邮件']"
      ]
     },
     "execution_count": 9,
     "metadata": {},
     "output_type": "execute_result"
    }
   ],
   "source": [
    "cols_with_missing = [col for col in jobs_xmrc_clean.columns \n",
    "                                 if jobs_xmrc_clean[col].isnull().any()]\n",
    "cols_with_missing"
   ]
  },
  {
   "cell_type": "code",
   "execution_count": 10,
   "metadata": {},
   "outputs": [],
   "source": [
    "# Create table for missing data analysis\n",
    "def draw_missing_data_table(df):\n",
    "    total = df.isnull().sum().sort_values(ascending=False)\n",
    "    percent = (df.isnull().sum()/df.isnull().count()).sort_values(ascending=False)\n",
    "    missing_data = pd.concat([total, percent], axis=1, keys=['Total', 'Percent'])\n",
    "    return missing_data"
   ]
  },
  {
   "cell_type": "code",
   "execution_count": 11,
   "metadata": {},
   "outputs": [
    {
     "data": {
      "text/html": [
       "<div>\n",
       "<style scoped>\n",
       "    .dataframe tbody tr th:only-of-type {\n",
       "        vertical-align: middle;\n",
       "    }\n",
       "\n",
       "    .dataframe tbody tr th {\n",
       "        vertical-align: top;\n",
       "    }\n",
       "\n",
       "    .dataframe thead th {\n",
       "        text-align: right;\n",
       "    }\n",
       "</style>\n",
       "<table border=\"1\" class=\"dataframe\">\n",
       "  <thead>\n",
       "    <tr style=\"text-align: right;\">\n",
       "      <th></th>\n",
       "      <th>Total</th>\n",
       "      <th>Percent</th>\n",
       "    </tr>\n",
       "  </thead>\n",
       "  <tbody>\n",
       "    <tr>\n",
       "      <th>上班天数</th>\n",
       "      <td>62836</td>\n",
       "      <td>1.000000</td>\n",
       "    </tr>\n",
       "    <tr>\n",
       "      <th>电子邮件</th>\n",
       "      <td>43037</td>\n",
       "      <td>0.684910</td>\n",
       "    </tr>\n",
       "    <tr>\n",
       "      <th>招聘部门</th>\n",
       "      <td>37840</td>\n",
       "      <td>0.602203</td>\n",
       "    </tr>\n",
       "    <tr>\n",
       "      <th>岗位职责</th>\n",
       "      <td>33110</td>\n",
       "      <td>0.526927</td>\n",
       "    </tr>\n",
       "    <tr>\n",
       "      <th>上班时间</th>\n",
       "      <td>15859</td>\n",
       "      <td>0.252387</td>\n",
       "    </tr>\n",
       "    <tr>\n",
       "      <th>参考月薪</th>\n",
       "      <td>14601</td>\n",
       "      <td>0.232367</td>\n",
       "    </tr>\n",
       "    <tr>\n",
       "      <th>薪资福利</th>\n",
       "      <td>13901</td>\n",
       "      <td>0.221227</td>\n",
       "    </tr>\n",
       "    <tr>\n",
       "      <th>工作地点</th>\n",
       "      <td>4</td>\n",
       "      <td>0.000064</td>\n",
       "    </tr>\n",
       "    <tr>\n",
       "      <th>通信地址</th>\n",
       "      <td>1</td>\n",
       "      <td>0.000016</td>\n",
       "    </tr>\n",
       "    <tr>\n",
       "      <th>联系人</th>\n",
       "      <td>1</td>\n",
       "      <td>0.000016</td>\n",
       "    </tr>\n",
       "    <tr>\n",
       "      <th>公司名称</th>\n",
       "      <td>0</td>\n",
       "      <td>0.000000</td>\n",
       "    </tr>\n",
       "    <tr>\n",
       "      <th>招聘日期</th>\n",
       "      <td>0</td>\n",
       "      <td>0.000000</td>\n",
       "    </tr>\n",
       "    <tr>\n",
       "      <th>截止日期</th>\n",
       "      <td>0</td>\n",
       "      <td>0.000000</td>\n",
       "    </tr>\n",
       "    <tr>\n",
       "      <th>性别要求</th>\n",
       "      <td>0</td>\n",
       "      <td>0.000000</td>\n",
       "    </tr>\n",
       "    <tr>\n",
       "      <th>学历要求</th>\n",
       "      <td>0</td>\n",
       "      <td>0.000000</td>\n",
       "    </tr>\n",
       "    <tr>\n",
       "      <th>职位性质</th>\n",
       "      <td>0</td>\n",
       "      <td>0.000000</td>\n",
       "    </tr>\n",
       "    <tr>\n",
       "      <th>招聘对象</th>\n",
       "      <td>0</td>\n",
       "      <td>0.000000</td>\n",
       "    </tr>\n",
       "    <tr>\n",
       "      <th>职位名称</th>\n",
       "      <td>0</td>\n",
       "      <td>0.000000</td>\n",
       "    </tr>\n",
       "  </tbody>\n",
       "</table>\n",
       "</div>"
      ],
      "text/plain": [
       "      Total   Percent\n",
       "上班天数  62836  1.000000\n",
       "电子邮件  43037  0.684910\n",
       "招聘部门  37840  0.602203\n",
       "岗位职责  33110  0.526927\n",
       "上班时间  15859  0.252387\n",
       "参考月薪  14601  0.232367\n",
       "薪资福利  13901  0.221227\n",
       "工作地点      4  0.000064\n",
       "通信地址      1  0.000016\n",
       "联系人       1  0.000016\n",
       "公司名称      0  0.000000\n",
       "招聘日期      0  0.000000\n",
       "截止日期      0  0.000000\n",
       "性别要求      0  0.000000\n",
       "学历要求      0  0.000000\n",
       "职位性质      0  0.000000\n",
       "招聘对象      0  0.000000\n",
       "职位名称      0  0.000000"
      ]
     },
     "execution_count": 11,
     "metadata": {},
     "output_type": "execute_result"
    }
   ],
   "source": [
    "draw_missing_data_table(jobs_xmrc_clean)"
   ]
  },
  {
   "cell_type": "markdown",
   "metadata": {},
   "source": [
    "针对前面3列的数据，考虑删除；   \n",
    "对于参考月薪为空的行，直接删除;   \n",
    "另岗位职责中有不少信息可提取，补充到其他信息缺少的行中,如上班时间、薪资福利、工作地点、通信地址和联系人。  "
   ]
  },
  {
   "cell_type": "code",
   "execution_count": 12,
   "metadata": {},
   "outputs": [],
   "source": [
    "jobs_xmrc_clean.drop(['上班天数','电子邮件','招聘部门'],axis=1,inplace=True)"
   ]
  },
  {
   "cell_type": "code",
   "execution_count": 13,
   "metadata": {},
   "outputs": [
    {
     "name": "stdout",
     "output_type": "stream",
     "text": [
      "删除参考月薪为空的数据总数： 48235\n"
     ]
    }
   ],
   "source": [
    "jobs_xmrc_clean.drop(jobs_xmrc_clean.loc[jobs_xmrc_clean['参考月薪'].isnull(),:].index,inplace=True)\n",
    "print('删除参考月薪为空的数据总数：',len(jobs_xmrc_clean))"
   ]
  },
  {
   "cell_type": "code",
   "execution_count": 14,
   "metadata": {},
   "outputs": [],
   "source": [
    "jobs_xmrc_clean.reset_index(drop=True,inplace=True)"
   ]
  },
  {
   "cell_type": "code",
   "execution_count": 15,
   "metadata": {},
   "outputs": [
    {
     "data": {
      "text/html": [
       "<div>\n",
       "<style scoped>\n",
       "    .dataframe tbody tr th:only-of-type {\n",
       "        vertical-align: middle;\n",
       "    }\n",
       "\n",
       "    .dataframe tbody tr th {\n",
       "        vertical-align: top;\n",
       "    }\n",
       "\n",
       "    .dataframe thead th {\n",
       "        text-align: right;\n",
       "    }\n",
       "</style>\n",
       "<table border=\"1\" class=\"dataframe\">\n",
       "  <thead>\n",
       "    <tr style=\"text-align: right;\">\n",
       "      <th></th>\n",
       "      <th>职位名称</th>\n",
       "      <th>公司名称</th>\n",
       "      <th>招聘日期</th>\n",
       "      <th>截止日期</th>\n",
       "      <th>联系人</th>\n",
       "      <th>通信地址</th>\n",
       "      <th>学历要求</th>\n",
       "      <th>性别要求</th>\n",
       "      <th>职位性质</th>\n",
       "      <th>招聘对象</th>\n",
       "      <th>工作地点</th>\n",
       "      <th>参考月薪</th>\n",
       "      <th>上班时间</th>\n",
       "      <th>薪资福利</th>\n",
       "      <th>岗位职责</th>\n",
       "    </tr>\n",
       "  </thead>\n",
       "  <tbody>\n",
       "    <tr>\n",
       "      <th>48230</th>\n",
       "      <td>陈列设计师（急招）</td>\n",
       "      <td>厦门乙顺商贸有限公司</td>\n",
       "      <td>2018-09-07</td>\n",
       "      <td>2018-10-07 14:23</td>\n",
       "      <td>张先生(人事行政部)</td>\n",
       "      <td>厦门市思明区鹭江道96号钻石海岸B幢25楼(361002)</td>\n",
       "      <td>大专以上</td>\n",
       "      <td>男</td>\n",
       "      <td>全职</td>\n",
       "      <td>不限</td>\n",
       "      <td>厦门市思明区</td>\n",
       "      <td>5000-8000元/月</td>\n",
       "      <td>8.0小时/天</td>\n",
       "      <td>五险、带薪年假、绩效奖金、加班补贴、住房补贴、餐饮补贴、节日福利、员工旅游、全勤奖</td>\n",
       "      <td>：1.负责品牌宣传活动物料的平面设计工作，包含海报、画册、POP、主题活动背板设计等；2.负...</td>\n",
       "    </tr>\n",
       "    <tr>\n",
       "      <th>48231</th>\n",
       "      <td>设计总监</td>\n",
       "      <td>厦门华亿传媒集团股份有限公司</td>\n",
       "      <td>2018-09-07</td>\n",
       "      <td>2018-09-17 14:23</td>\n",
       "      <td>柳小姐(人力资源部)</td>\n",
       "      <td>厦门市思明区深田路46号深田国际大厦1203室(361009)(合则约见、非请勿访)</td>\n",
       "      <td>大专以上</td>\n",
       "      <td>不限</td>\n",
       "      <td>全职</td>\n",
       "      <td>五年工作经验以上</td>\n",
       "      <td>厦门市、厦门市思明区</td>\n",
       "      <td>10000-11000元/月(底薪：7500-8500元/月+提成)</td>\n",
       "      <td>7.0小时/天</td>\n",
       "      <td>五险、住房公积金、带薪年假、绩效奖金、高温补贴、节日福利、专业培训、定期体检</td>\n",
       "      <td>：1、负责公司主办或承办的展庆活动项目、品牌设计等相关平面工作，了解客户意图，将方案、文案、...</td>\n",
       "    </tr>\n",
       "    <tr>\n",
       "      <th>48232</th>\n",
       "      <td>设计副总监</td>\n",
       "      <td>厦门华亿传媒集团股份有限公司</td>\n",
       "      <td>2018-09-07</td>\n",
       "      <td>2018-09-17 14:23</td>\n",
       "      <td>柳小姐(人力资源部)</td>\n",
       "      <td>厦门市思明区深田路46号深田国际大厦1203室(361009)(合则约见、非请勿访)</td>\n",
       "      <td>大专以上</td>\n",
       "      <td>不限</td>\n",
       "      <td>全职</td>\n",
       "      <td>四年工作经验以上</td>\n",
       "      <td>厦门市、厦门市思明区</td>\n",
       "      <td>7500-10000元/月</td>\n",
       "      <td>7.0小时/天</td>\n",
       "      <td>五险、住房公积金、带薪年假、高温补贴、节日福利、专业培训、定期体检</td>\n",
       "      <td>：1、按时、高效完成项目的设计排版及提案方案设计制作，负责公司书刊、创意等相关平面工作；2、...</td>\n",
       "    </tr>\n",
       "    <tr>\n",
       "      <th>48233</th>\n",
       "      <td>装修工程预算</td>\n",
       "      <td>厦门华亿传媒集团股份有限公司</td>\n",
       "      <td>2018-09-07</td>\n",
       "      <td>2018-09-14 14:23</td>\n",
       "      <td>柳小姐(人力资源部)</td>\n",
       "      <td>厦门市思明区深田路46号深田国际大厦1203室(361009)(合则约见、非请勿访)</td>\n",
       "      <td>大专以上</td>\n",
       "      <td>不限</td>\n",
       "      <td>全职</td>\n",
       "      <td>不限</td>\n",
       "      <td>厦门市、厦门市思明区</td>\n",
       "      <td>4000-4500元/月</td>\n",
       "      <td>7.0小时/天</td>\n",
       "      <td>五险、住房公积金、商业保险、带薪年假、绩效奖金、高温补贴、节日福利、专业培训、定期体检</td>\n",
       "      <td>：负责工程项目的报价、跟进项目进展、负责工程项目成本管控工作、完工项目预算与结算费用分析对比...</td>\n",
       "    </tr>\n",
       "    <tr>\n",
       "      <th>48234</th>\n",
       "      <td>编辑</td>\n",
       "      <td>厦门华亿传媒集团股份有限公司</td>\n",
       "      <td>2018-09-07</td>\n",
       "      <td>2018-09-17 14:23</td>\n",
       "      <td>柳小姐(人力资源部)</td>\n",
       "      <td>厦门市思明区深田路46号深田国际大厦1203室(361009)(合则约见、非请勿访)</td>\n",
       "      <td>本科以上</td>\n",
       "      <td>不限</td>\n",
       "      <td>全职</td>\n",
       "      <td>不限</td>\n",
       "      <td>厦门市、厦门市思明区</td>\n",
       "      <td>2500-5000元/月</td>\n",
       "      <td>7.0小时/天</td>\n",
       "      <td>五险、住房公积金、带薪年假、绩效奖金、高温补贴、节日福利、专业培训、定期体检</td>\n",
       "      <td>：1、负责执行出版业务采访编辑、设计校对、印刷发行、印刷监督等流程；2、负责整理编辑书籍、期...</td>\n",
       "    </tr>\n",
       "  </tbody>\n",
       "</table>\n",
       "</div>"
      ],
      "text/plain": [
       "            职位名称            公司名称        招聘日期              截止日期         联系人  \\\n",
       "48230  陈列设计师（急招）      厦门乙顺商贸有限公司  2018-09-07  2018-10-07 14:23  张先生(人事行政部)   \n",
       "48231       设计总监  厦门华亿传媒集团股份有限公司  2018-09-07  2018-09-17 14:23  柳小姐(人力资源部)   \n",
       "48232      设计副总监  厦门华亿传媒集团股份有限公司  2018-09-07  2018-09-17 14:23  柳小姐(人力资源部)   \n",
       "48233     装修工程预算  厦门华亿传媒集团股份有限公司  2018-09-07  2018-09-14 14:23  柳小姐(人力资源部)   \n",
       "48234         编辑  厦门华亿传媒集团股份有限公司  2018-09-07  2018-09-17 14:23  柳小姐(人力资源部)   \n",
       "\n",
       "                                             通信地址  学历要求 性别要求 职位性质      招聘对象  \\\n",
       "48230               厦门市思明区鹭江道96号钻石海岸B幢25楼(361002)  大专以上    男   全职        不限   \n",
       "48231  厦门市思明区深田路46号深田国际大厦1203室(361009)(合则约见、非请勿访)  大专以上   不限   全职  五年工作经验以上   \n",
       "48232  厦门市思明区深田路46号深田国际大厦1203室(361009)(合则约见、非请勿访)  大专以上   不限   全职  四年工作经验以上   \n",
       "48233  厦门市思明区深田路46号深田国际大厦1203室(361009)(合则约见、非请勿访)  大专以上   不限   全职        不限   \n",
       "48234  厦门市思明区深田路46号深田国际大厦1203室(361009)(合则约见、非请勿访)  本科以上   不限   全职        不限   \n",
       "\n",
       "             工作地点                                参考月薪     上班时间  \\\n",
       "48230      厦门市思明区                        5000-8000元/月  8.0小时/天   \n",
       "48231  厦门市、厦门市思明区  10000-11000元/月(底薪：7500-8500元/月+提成)  7.0小时/天   \n",
       "48232  厦门市、厦门市思明区                       7500-10000元/月  7.0小时/天   \n",
       "48233  厦门市、厦门市思明区                        4000-4500元/月  7.0小时/天   \n",
       "48234  厦门市、厦门市思明区                        2500-5000元/月  7.0小时/天   \n",
       "\n",
       "                                              薪资福利  \\\n",
       "48230    五险、带薪年假、绩效奖金、加班补贴、住房补贴、餐饮补贴、节日福利、员工旅游、全勤奖   \n",
       "48231       五险、住房公积金、带薪年假、绩效奖金、高温补贴、节日福利、专业培训、定期体检   \n",
       "48232            五险、住房公积金、带薪年假、高温补贴、节日福利、专业培训、定期体检   \n",
       "48233  五险、住房公积金、商业保险、带薪年假、绩效奖金、高温补贴、节日福利、专业培训、定期体检   \n",
       "48234       五险、住房公积金、带薪年假、绩效奖金、高温补贴、节日福利、专业培训、定期体检   \n",
       "\n",
       "                                                    岗位职责  \n",
       "48230  ：1.负责品牌宣传活动物料的平面设计工作，包含海报、画册、POP、主题活动背板设计等；2.负...  \n",
       "48231  ：1、负责公司主办或承办的展庆活动项目、品牌设计等相关平面工作，了解客户意图，将方案、文案、...  \n",
       "48232  ：1、按时、高效完成项目的设计排版及提案方案设计制作，负责公司书刊、创意等相关平面工作；2、...  \n",
       "48233  ：负责工程项目的报价、跟进项目进展、负责工程项目成本管控工作、完工项目预算与结算费用分析对比...  \n",
       "48234  ：1、负责执行出版业务采访编辑、设计校对、印刷发行、印刷监督等流程；2、负责整理编辑书籍、期...  "
      ]
     },
     "execution_count": 15,
     "metadata": {},
     "output_type": "execute_result"
    }
   ],
   "source": [
    "jobs_xmrc_clean.tail()"
   ]
  },
  {
   "cell_type": "code",
   "execution_count": 16,
   "metadata": {},
   "outputs": [],
   "source": [
    "# 从参考月薪开始\n",
    "salaryRegex1 = re.compile(r'(\\d*)\\s*-\\s*(\\d*)')\n",
    "\n",
    "jobs_xmrc_clean['salary_L']=pd.Series()\n",
    "jobs_xmrc_clean['salary_U']=pd.Series()\n",
    "jobs_xmrc_clean['salary_A']=pd.Series()\n",
    "\n",
    "\n",
    "for i in jobs_xmrc_clean['参考月薪'].index:\n",
    "    jobs_xmrc_clean.loc[i,'salary_L'] =  salaryRegex1.search(jobs_xmrc_clean.loc[i,'参考月薪']).group(1)\n",
    "    jobs_xmrc_clean.loc[i,'salary_U'] =  salaryRegex1.search(jobs_xmrc_clean.loc[i,'参考月薪']).group(2)"
   ]
  },
  {
   "cell_type": "code",
   "execution_count": 17,
   "metadata": {},
   "outputs": [],
   "source": [
    "jobs_xmrc_clean['salary_L'] = jobs_xmrc_clean['salary_L'].astype('int64')"
   ]
  },
  {
   "cell_type": "code",
   "execution_count": 18,
   "metadata": {},
   "outputs": [],
   "source": [
    "def conv_type(data,col1,col2):\n",
    "    for i in data[col1].index:\n",
    "        try:\n",
    "            data.loc[i,col1] = int(data.loc[i,col1])\n",
    "        except:\n",
    "            data.loc[i,col1] = data.loc[i,col2]"
   ]
  },
  {
   "cell_type": "code",
   "execution_count": 19,
   "metadata": {},
   "outputs": [],
   "source": [
    "conv_type(jobs_xmrc_clean,'salary_U','salary_L')"
   ]
  },
  {
   "cell_type": "code",
   "execution_count": 20,
   "metadata": {},
   "outputs": [],
   "source": [
    "jobs_xmrc_clean['salary_A']= (jobs_xmrc_clean['salary_L'] + jobs_xmrc_clean['salary_U'])/2\n",
    "jobs_xmrc_clean['salary_A'] = jobs_xmrc_clean['salary_A'].astype('int64')"
   ]
  },
  {
   "cell_type": "code",
   "execution_count": 21,
   "metadata": {},
   "outputs": [],
   "source": [
    "def get_more(var,patt):\n",
    "    for row in jobs_xmrc_clean.loc[jobs_xmrc_clean[var].isnull(),:].index:\n",
    "        value = salary_patt.findall(str(jobs_xmrc_clean.loc[row,'岗位职责']))\n",
    "        if len(value) > 0:\n",
    "            jobs_xmrc_clean.loc[row,var] = value[0]\n",
    "        else:\n",
    "            jobs_xmrc_clean.loc[row,var] = None"
   ]
  },
  {
   "cell_type": "code",
   "execution_count": 22,
   "metadata": {},
   "outputs": [],
   "source": [
    "def fill_location(data,col1,col2):\n",
    "    for i in jobs_xmrc_clean[jobs_xmrc_clean[col1].isnull()].index:\n",
    "        jobs_xmrc_clean.loc[i,col1] = jobs_xmrc_clean.loc[i,col2].strip()\n",
    "\n",
    "fill_location(jobs_xmrc_clean,'工作地点','通信地址')"
   ]
  },
  {
   "cell_type": "code",
   "execution_count": 23,
   "metadata": {},
   "outputs": [],
   "source": [
    "fill_location(jobs_xmrc_clean,'通信地址','工作地点')"
   ]
  },
  {
   "cell_type": "code",
   "execution_count": 24,
   "metadata": {},
   "outputs": [
    {
     "data": {
      "text/plain": [
       "1845"
      ]
     },
     "execution_count": 24,
     "metadata": {},
     "output_type": "execute_result"
    }
   ],
   "source": [
    "# 找出非厦门工作地点的数据\n",
    "non_amoy = []\n",
    "for i in jobs_xmrc_clean.index:\n",
    "    if jobs_xmrc_clean.loc[i,'通信地址'].find('厦门') == -1 and jobs_xmrc_clean.loc[i,'工作地点'].find('厦门') == -1:\n",
    "        non_amoy.append(i)\n",
    "len(non_amoy)"
   ]
  },
  {
   "cell_type": "code",
   "execution_count": 25,
   "metadata": {},
   "outputs": [],
   "source": [
    "#删除公司或工作地点不在厦门的岗位\n",
    "jobs_xmrc_clean.drop(non_amoy,inplace=True)"
   ]
  },
  {
   "cell_type": "code",
   "execution_count": 26,
   "metadata": {},
   "outputs": [
    {
     "data": {
      "text/plain": [
       "46390"
      ]
     },
     "execution_count": 26,
     "metadata": {},
     "output_type": "execute_result"
    }
   ],
   "source": [
    "len(jobs_xmrc_clean)"
   ]
  },
  {
   "cell_type": "markdown",
   "metadata": {},
   "source": [
    "### 数据分析\n",
    "\n",
    "问题思考：   \n",
    "1. 厦门招聘岗位的薪资待遇分布情况    \n",
    "2. 厦门不同城区的招聘岗位需求情况和薪资差异   "
   ]
  },
  {
   "cell_type": "markdown",
   "metadata": {},
   "source": [
    "#### 1. 薪资待遇分布情况 "
   ]
  },
  {
   "cell_type": "code",
   "execution_count": 27,
   "metadata": {},
   "outputs": [
    {
     "data": {
      "text/html": [
       "<div>\n",
       "<style scoped>\n",
       "    .dataframe tbody tr th:only-of-type {\n",
       "        vertical-align: middle;\n",
       "    }\n",
       "\n",
       "    .dataframe tbody tr th {\n",
       "        vertical-align: top;\n",
       "    }\n",
       "\n",
       "    .dataframe thead th {\n",
       "        text-align: right;\n",
       "    }\n",
       "</style>\n",
       "<table border=\"1\" class=\"dataframe\">\n",
       "  <thead>\n",
       "    <tr style=\"text-align: right;\">\n",
       "      <th></th>\n",
       "      <th>salary_L</th>\n",
       "      <th>salary_U</th>\n",
       "      <th>salary_A</th>\n",
       "    </tr>\n",
       "  </thead>\n",
       "  <tbody>\n",
       "    <tr>\n",
       "      <th>count</th>\n",
       "      <td>46390.000000</td>\n",
       "      <td>46390.000000</td>\n",
       "      <td>46390.000000</td>\n",
       "    </tr>\n",
       "    <tr>\n",
       "      <th>mean</th>\n",
       "      <td>5077.025243</td>\n",
       "      <td>8140.641259</td>\n",
       "      <td>6608.832615</td>\n",
       "    </tr>\n",
       "    <tr>\n",
       "      <th>std</th>\n",
       "      <td>3017.103067</td>\n",
       "      <td>5221.500230</td>\n",
       "      <td>4062.170340</td>\n",
       "    </tr>\n",
       "    <tr>\n",
       "      <th>min</th>\n",
       "      <td>1.000000</td>\n",
       "      <td>1.000000</td>\n",
       "      <td>1.000000</td>\n",
       "    </tr>\n",
       "    <tr>\n",
       "      <th>25%</th>\n",
       "      <td>3500.000000</td>\n",
       "      <td>5000.000000</td>\n",
       "      <td>4250.000000</td>\n",
       "    </tr>\n",
       "    <tr>\n",
       "      <th>50%</th>\n",
       "      <td>4000.000000</td>\n",
       "      <td>7000.000000</td>\n",
       "      <td>5500.000000</td>\n",
       "    </tr>\n",
       "    <tr>\n",
       "      <th>75%</th>\n",
       "      <td>6000.000000</td>\n",
       "      <td>10000.000000</td>\n",
       "      <td>7500.000000</td>\n",
       "    </tr>\n",
       "    <tr>\n",
       "      <th>max</th>\n",
       "      <td>100000.000000</td>\n",
       "      <td>100000.000000</td>\n",
       "      <td>100000.000000</td>\n",
       "    </tr>\n",
       "  </tbody>\n",
       "</table>\n",
       "</div>"
      ],
      "text/plain": [
       "            salary_L       salary_U       salary_A\n",
       "count   46390.000000   46390.000000   46390.000000\n",
       "mean     5077.025243    8140.641259    6608.832615\n",
       "std      3017.103067    5221.500230    4062.170340\n",
       "min         1.000000       1.000000       1.000000\n",
       "25%      3500.000000    5000.000000    4250.000000\n",
       "50%      4000.000000    7000.000000    5500.000000\n",
       "75%      6000.000000   10000.000000    7500.000000\n",
       "max    100000.000000  100000.000000  100000.000000"
      ]
     },
     "execution_count": 27,
     "metadata": {},
     "output_type": "execute_result"
    }
   ],
   "source": [
    "jobs_xmrc_clean.describe()"
   ]
  },
  {
   "cell_type": "code",
   "execution_count": 28,
   "metadata": {},
   "outputs": [],
   "source": [
    "def salary_upper(salary):\n",
    "    jobs_xmrc_upper = jobs_xmrc_clean[jobs_xmrc_clean['salary_A']>= int(salary)]\n",
    "    print('薪资超过'+salary+'的岗位数：',len(jobs_xmrc_upper),'\\n',\\\n",
    "          '占总招聘数量的比例是：','%.1f'%(float(len(jobs_xmrc_upper)/len(jobs_xmrc_clean))*100) +'%')\n",
    "    return jobs_xmrc_upper"
   ]
  },
  {
   "cell_type": "code",
   "execution_count": 29,
   "metadata": {},
   "outputs": [
    {
     "name": "stdout",
     "output_type": "stream",
     "text": [
      "薪资超过20000的岗位数： 665 \n",
      " 占总招聘数量的比例是： 1.4%\n"
     ]
    }
   ],
   "source": [
    "jobs_xmrc_20k = salary_upper('20000')"
   ]
  },
  {
   "cell_type": "code",
   "execution_count": 30,
   "metadata": {},
   "outputs": [
    {
     "name": "stdout",
     "output_type": "stream",
     "text": [
      "薪资超过40000的岗位数： 65 \n",
      " 占总招聘数量的比例是： 0.1%\n"
     ]
    }
   ],
   "source": [
    "jobs_xmrc_40k = salary_upper('40000')"
   ]
  },
  {
   "cell_type": "code",
   "execution_count": 31,
   "metadata": {},
   "outputs": [
    {
     "name": "stdout",
     "output_type": "stream",
     "text": [
      "薪资超过60000的岗位数： 23 \n",
      " 占总招聘数量的比例是： 0.0%\n"
     ]
    }
   ],
   "source": [
    "jobs_xmrc_60k = salary_upper('60000')"
   ]
  },
  {
   "cell_type": "code",
   "execution_count": 32,
   "metadata": {},
   "outputs": [
    {
     "name": "stdout",
     "output_type": "stream",
     "text": [
      "薪资超过80000的岗位数： 6 \n",
      " 占总招聘数量的比例是： 0.0%\n"
     ]
    }
   ],
   "source": [
    "jobs_xmrc_80k = salary_upper('80000')"
   ]
  },
  {
   "cell_type": "code",
   "execution_count": 33,
   "metadata": {},
   "outputs": [
    {
     "name": "stdout",
     "output_type": "stream",
     "text": [
      "薪资超过100000的岗位数： 1 \n",
      " 占总招聘数量的比例是： 0.0%\n"
     ]
    },
    {
     "data": {
      "text/html": [
       "<div>\n",
       "<style scoped>\n",
       "    .dataframe tbody tr th:only-of-type {\n",
       "        vertical-align: middle;\n",
       "    }\n",
       "\n",
       "    .dataframe tbody tr th {\n",
       "        vertical-align: top;\n",
       "    }\n",
       "\n",
       "    .dataframe thead th {\n",
       "        text-align: right;\n",
       "    }\n",
       "</style>\n",
       "<table border=\"1\" class=\"dataframe\">\n",
       "  <thead>\n",
       "    <tr style=\"text-align: right;\">\n",
       "      <th></th>\n",
       "      <th>职位名称</th>\n",
       "      <th>公司名称</th>\n",
       "      <th>招聘日期</th>\n",
       "      <th>截止日期</th>\n",
       "      <th>联系人</th>\n",
       "      <th>通信地址</th>\n",
       "      <th>学历要求</th>\n",
       "      <th>性别要求</th>\n",
       "      <th>职位性质</th>\n",
       "      <th>招聘对象</th>\n",
       "      <th>工作地点</th>\n",
       "      <th>参考月薪</th>\n",
       "      <th>上班时间</th>\n",
       "      <th>薪资福利</th>\n",
       "      <th>岗位职责</th>\n",
       "      <th>salary_L</th>\n",
       "      <th>salary_U</th>\n",
       "      <th>salary_A</th>\n",
       "    </tr>\n",
       "  </thead>\n",
       "  <tbody>\n",
       "    <tr>\n",
       "      <th>4564</th>\n",
       "      <td>总经理</td>\n",
       "      <td>厦门维尔斯人力资源管理有限公司</td>\n",
       "      <td>2018-09-06</td>\n",
       "      <td>2018-10-06 10:39</td>\n",
       "      <td>Mike(顾问师)</td>\n",
       "      <td>厦门市思明区吕岭路1819号精图大厦（软件园二期东二门精图信息大厦）B304-307（软件园...</td>\n",
       "      <td>本科以上</td>\n",
       "      <td>男</td>\n",
       "      <td>全职</td>\n",
       "      <td>十五年工作经验以上</td>\n",
       "      <td>厦门市</td>\n",
       "      <td>100000-100000元/月</td>\n",
       "      <td>8.0小时/天</td>\n",
       "      <td>五险、住房公积金</td>\n",
       "      <td>：1、品牌推广、品牌影响力做大；2、业绩、营业额做强。任职资格：1、35-50之间，大健康背...</td>\n",
       "      <td>100000</td>\n",
       "      <td>100000</td>\n",
       "      <td>100000</td>\n",
       "    </tr>\n",
       "  </tbody>\n",
       "</table>\n",
       "</div>"
      ],
      "text/plain": [
       "     职位名称             公司名称        招聘日期              截止日期        联系人  \\\n",
       "4564  总经理  厦门维尔斯人力资源管理有限公司  2018-09-06  2018-10-06 10:39  Mike(顾问师)   \n",
       "\n",
       "                                                   通信地址  学历要求 性别要求 职位性质  \\\n",
       "4564  厦门市思明区吕岭路1819号精图大厦（软件园二期东二门精图信息大厦）B304-307（软件园...  本科以上    男   全职   \n",
       "\n",
       "           招聘对象 工作地点              参考月薪     上班时间      薪资福利  \\\n",
       "4564  十五年工作经验以上  厦门市  100000-100000元/月  8.0小时/天  五险、住房公积金   \n",
       "\n",
       "                                                   岗位职责  salary_L  salary_U  \\\n",
       "4564  ：1、品牌推广、品牌影响力做大；2、业绩、营业额做强。任职资格：1、35-50之间，大健康背...    100000    100000   \n",
       "\n",
       "      salary_A  \n",
       "4564    100000  "
      ]
     },
     "execution_count": 33,
     "metadata": {},
     "output_type": "execute_result"
    }
   ],
   "source": [
    "jobs_xmrc_100k = salary_upper('100000')\n",
    "jobs_xmrc_100k"
   ]
  },
  {
   "cell_type": "code",
   "execution_count": 34,
   "metadata": {},
   "outputs": [
    {
     "data": {
      "image/png": "[encoded data removed]",
      "text/plain": [
       "<Figure size 576x360 with 1 Axes>"
      ]
     },
     "metadata": {},
     "output_type": "display_data"
    }
   ],
   "source": [
    "sns.set_style('ticks')\n",
    "plt.rcParams['font.sans-serif']=['Microsoft YaHei'] \n",
    "\n",
    "def hist_salary(data):\n",
    "    fig,ax = plt.subplots(1,1,figsize=(8,5))\n",
    "\n",
    "    ax.hist(data['salary_L'],bins=40,stacked=True)\n",
    "    props={\n",
    "        'title':'厦门市招聘岗位的月平均薪资分布',\n",
    "        'ylabel':'岗位数量',\n",
    "        'xlabel':'薪酬/元'\n",
    "    }\n",
    "    ax.set(**props)\n",
    "    fig.savefig('厦门市招聘岗位的月平均薪资分布.png')\n",
    "    plt.show()\n",
    "\n",
    "jobs_xmrc_40kLower = jobs_xmrc_clean[jobs_xmrc_clean['salary_A'] < 40000]\n",
    "hist_salary(jobs_xmrc_40kLower)"
   ]
  },
  {
   "cell_type": "code",
   "execution_count": 35,
   "metadata": {},
   "outputs": [],
   "source": [
    "#对薪资按范围了解各水平比例情况\n",
    "salary_dict = {'3K以下':1,'3K-5K':2,'5K-7K':3,'7K-10K':4,'10K-15K':5,'15k-20k':6,'20K-30K':7,'30k以上':8}\n",
    "\n",
    "jobs_xmrc_clean['salary_cls'] = 0"
   ]
  },
  {
   "cell_type": "code",
   "execution_count": 36,
   "metadata": {},
   "outputs": [],
   "source": [
    "def salary_step():\n",
    "    for i in jobs_xmrc_clean['salary_A'].index:\n",
    "        if jobs_xmrc_clean.loc[i,'salary_A'] <= 3000:\n",
    "            jobs_xmrc_clean.loc[i,'salary_cls'] = 1\n",
    "        elif jobs_xmrc_clean.loc[i,'salary_A'] <= 5000:\n",
    "            jobs_xmrc_clean.loc[i,'salary_cls'] = 2\n",
    "        elif jobs_xmrc_clean.loc[i,'salary_A'] <= 7000:\n",
    "            jobs_xmrc_clean.loc[i,'salary_cls'] = 3\n",
    "        elif jobs_xmrc_clean.loc[i,'salary_A'] <= 10000:\n",
    "            jobs_xmrc_clean.loc[i,'salary_cls'] = 4\n",
    "        elif jobs_xmrc_clean.loc[i,'salary_A'] <= 15000:\n",
    "            jobs_xmrc_clean.loc[i,'salary_cls'] = 5\n",
    "        elif jobs_xmrc_clean.loc[i,'salary_A'] <= 20000:\n",
    "            jobs_xmrc_clean.loc[i,'salary_cls'] = 6\n",
    "        elif jobs_xmrc_clean.loc[i,'salary_A'] <= 30000:\n",
    "            jobs_xmrc_clean.loc[i,'salary_cls'] = 7\n",
    "        elif jobs_xmrc_clean.loc[i,'salary_A'] > 30000:\n",
    "            jobs_xmrc_clean.loc[i,'salary_cls'] = 8\n",
    "\n",
    "salary_step()"
   ]
  },
  {
   "cell_type": "code",
   "execution_count": 37,
   "metadata": {},
   "outputs": [],
   "source": [
    "jobs_xmrc_clean_salaryR = jobs_xmrc_clean.groupby('salary_cls',as_index=False).count()\n",
    "jobs_xmrc_clean_salaryR = jobs_xmrc_clean_salaryR[['salary_cls','职位名称']]"
   ]
  },
  {
   "cell_type": "code",
   "execution_count": 38,
   "metadata": {},
   "outputs": [],
   "source": [
    "def barticks(num):\n",
    "    prop = jobs_xmrc_clean_salaryR.loc[num-1,'职位名称']/jobs_xmrc_clean_salaryR['职位名称'].sum()*100\n",
    "    ax.text(num-0.3,prop+.5,'%.1f'%prop + '%')"
   ]
  },
  {
   "cell_type": "code",
   "execution_count": 39,
   "metadata": {},
   "outputs": [
    {
     "data": {
      "image/png": "[encoded data removed]",
      "text/plain": [
       "<Figure size 576x432 with 1 Axes>"
      ]
     },
     "metadata": {},
     "output_type": "display_data"
    }
   ],
   "source": [
    "fig,ax = plt.subplots(1,1,figsize=(8,6))\n",
    "\n",
    "ax.bar(x=jobs_xmrc_clean_salaryR['salary_cls'],tick_label=list(salary_dict.keys()),\\\n",
    "        height=jobs_xmrc_clean_salaryR['职位名称']/jobs_xmrc_clean_salaryR['职位名称'].sum()*100)\n",
    "\n",
    "ax.set(title='月薪分布比例',xlabel='月薪范围',ylabel='比例 (%)')\n",
    "barticks(2)\n",
    "barticks(5)\n",
    "barticks(6)\n",
    "barticks(7)\n",
    "barticks(8)\n",
    "\n",
    "fig.savefig('月薪分布比例.png')\n"
   ]
  },
  {
   "cell_type": "markdown",
   "metadata": {},
   "source": [
    "#### 2. 厦门不同城区的招聘岗位需求情况和薪资差异 "
   ]
  },
  {
   "cell_type": "code",
   "execution_count": 40,
   "metadata": {},
   "outputs": [
    {
     "data": {
      "text/plain": [
       "0"
      ]
     },
     "execution_count": 40,
     "metadata": {},
     "output_type": "execute_result"
    }
   ],
   "source": [
    "#通信地址为空值的处理\n",
    "for i in jobs_xmrc_clean[jobs_xmrc_clean['通信地址'].isnull()].index:\n",
    "    jobs_xmrc_clean.loc[i,'通信地址'] = jobs_xmrc_clean.loc[i,'工作地点']\n",
    "len(jobs_xmrc_clean[jobs_xmrc_clean['通信地址'].isnull()])"
   ]
  },
  {
   "cell_type": "code",
   "execution_count": 41,
   "metadata": {},
   "outputs": [
    {
     "data": {
      "text/html": [
       "<div>\n",
       "<style scoped>\n",
       "    .dataframe tbody tr th:only-of-type {\n",
       "        vertical-align: middle;\n",
       "    }\n",
       "\n",
       "    .dataframe tbody tr th {\n",
       "        vertical-align: top;\n",
       "    }\n",
       "\n",
       "    .dataframe thead th {\n",
       "        text-align: right;\n",
       "    }\n",
       "</style>\n",
       "<table border=\"1\" class=\"dataframe\">\n",
       "  <thead>\n",
       "    <tr style=\"text-align: right;\">\n",
       "      <th></th>\n",
       "      <th>Total</th>\n",
       "      <th>Percent</th>\n",
       "    </tr>\n",
       "  </thead>\n",
       "  <tbody>\n",
       "    <tr>\n",
       "      <th>岗位职责</th>\n",
       "      <td>24091</td>\n",
       "      <td>0.519315</td>\n",
       "    </tr>\n",
       "    <tr>\n",
       "      <th>上班时间</th>\n",
       "      <td>9066</td>\n",
       "      <td>0.195430</td>\n",
       "    </tr>\n",
       "    <tr>\n",
       "      <th>薪资福利</th>\n",
       "      <td>7919</td>\n",
       "      <td>0.170705</td>\n",
       "    </tr>\n",
       "    <tr>\n",
       "      <th>联系人</th>\n",
       "      <td>1</td>\n",
       "      <td>0.000022</td>\n",
       "    </tr>\n",
       "    <tr>\n",
       "      <th>salary_cls</th>\n",
       "      <td>0</td>\n",
       "      <td>0.000000</td>\n",
       "    </tr>\n",
       "    <tr>\n",
       "      <th>性别要求</th>\n",
       "      <td>0</td>\n",
       "      <td>0.000000</td>\n",
       "    </tr>\n",
       "    <tr>\n",
       "      <th>公司名称</th>\n",
       "      <td>0</td>\n",
       "      <td>0.000000</td>\n",
       "    </tr>\n",
       "    <tr>\n",
       "      <th>招聘日期</th>\n",
       "      <td>0</td>\n",
       "      <td>0.000000</td>\n",
       "    </tr>\n",
       "    <tr>\n",
       "      <th>截止日期</th>\n",
       "      <td>0</td>\n",
       "      <td>0.000000</td>\n",
       "    </tr>\n",
       "    <tr>\n",
       "      <th>通信地址</th>\n",
       "      <td>0</td>\n",
       "      <td>0.000000</td>\n",
       "    </tr>\n",
       "    <tr>\n",
       "      <th>学历要求</th>\n",
       "      <td>0</td>\n",
       "      <td>0.000000</td>\n",
       "    </tr>\n",
       "    <tr>\n",
       "      <th>招聘对象</th>\n",
       "      <td>0</td>\n",
       "      <td>0.000000</td>\n",
       "    </tr>\n",
       "    <tr>\n",
       "      <th>职位性质</th>\n",
       "      <td>0</td>\n",
       "      <td>0.000000</td>\n",
       "    </tr>\n",
       "    <tr>\n",
       "      <th>salary_A</th>\n",
       "      <td>0</td>\n",
       "      <td>0.000000</td>\n",
       "    </tr>\n",
       "    <tr>\n",
       "      <th>工作地点</th>\n",
       "      <td>0</td>\n",
       "      <td>0.000000</td>\n",
       "    </tr>\n",
       "    <tr>\n",
       "      <th>参考月薪</th>\n",
       "      <td>0</td>\n",
       "      <td>0.000000</td>\n",
       "    </tr>\n",
       "    <tr>\n",
       "      <th>salary_L</th>\n",
       "      <td>0</td>\n",
       "      <td>0.000000</td>\n",
       "    </tr>\n",
       "    <tr>\n",
       "      <th>salary_U</th>\n",
       "      <td>0</td>\n",
       "      <td>0.000000</td>\n",
       "    </tr>\n",
       "    <tr>\n",
       "      <th>职位名称</th>\n",
       "      <td>0</td>\n",
       "      <td>0.000000</td>\n",
       "    </tr>\n",
       "  </tbody>\n",
       "</table>\n",
       "</div>"
      ],
      "text/plain": [
       "            Total   Percent\n",
       "岗位职责        24091  0.519315\n",
       "上班时间         9066  0.195430\n",
       "薪资福利         7919  0.170705\n",
       "联系人             1  0.000022\n",
       "salary_cls      0  0.000000\n",
       "性别要求            0  0.000000\n",
       "公司名称            0  0.000000\n",
       "招聘日期            0  0.000000\n",
       "截止日期            0  0.000000\n",
       "通信地址            0  0.000000\n",
       "学历要求            0  0.000000\n",
       "招聘对象            0  0.000000\n",
       "职位性质            0  0.000000\n",
       "salary_A        0  0.000000\n",
       "工作地点            0  0.000000\n",
       "参考月薪            0  0.000000\n",
       "salary_L        0  0.000000\n",
       "salary_U        0  0.000000\n",
       "职位名称            0  0.000000"
      ]
     },
     "execution_count": 41,
     "metadata": {},
     "output_type": "execute_result"
    }
   ],
   "source": [
    "draw_missing_data_table(jobs_xmrc_clean)"
   ]
  },
  {
   "cell_type": "code",
   "execution_count": 42,
   "metadata": {},
   "outputs": [],
   "source": [
    "jobs_xmrc_d = jobs_xmrc_clean.copy()"
   ]
  },
  {
   "cell_type": "code",
   "execution_count": 43,
   "metadata": {},
   "outputs": [],
   "source": [
    "#用正则表达式匹配地区\n",
    "def get_distr(text):\n",
    "    dist = re.compile(r'(思明|湖里|集美|同安|翔安|海沧)区').search(text)\n",
    "    if dist:\n",
    "        return dist.group(1)\n",
    "    else:\n",
    "        return None"
   ]
  },
  {
   "cell_type": "code",
   "execution_count": 44,
   "metadata": {},
   "outputs": [],
   "source": [
    "jobs_xmrc_d['城区'] = jobs_xmrc_d['工作地点'].apply(get_distr)"
   ]
  },
  {
   "cell_type": "code",
   "execution_count": 45,
   "metadata": {},
   "outputs": [],
   "source": [
    "def extract_dist(col):\n",
    "    for i in jobs_xmrc_d[jobs_xmrc_d['城区'].isnull()].index:\n",
    "        value = get_distr(jobs_xmrc_d.loc[i,col])\n",
    "        jobs_xmrc_d.loc[i,'城区'] = value\n",
    "\n",
    "extract_dist('通信地址')\n",
    "extract_dist('公司名称')"
   ]
  },
  {
   "cell_type": "code",
   "execution_count": 46,
   "metadata": {},
   "outputs": [],
   "source": [
    "#部分招聘信息中无城区信息，通过查找确认\n",
    "for i in jobs_xmrc_d[jobs_xmrc_d['城区'].isnull()].index:\n",
    "    text = jobs_xmrc_d.loc[i,'通信地址']\n",
    "    if text.find('高崎') != -1 or text.find('湖里') != -1 or text.find('五缘湾') != -1 or \\\n",
    "    text.find('现代物流园') != -1 or text.find('观音山') != -1 or text.find('枋湖南路') != -1 or \\\n",
    "    text.find('金尚路') != -1:\n",
    "        jobs_xmrc_d.loc[i,'城区'] = '湖里'\n",
    "    if text.find('望海路') != -1 or text.find('思明') != -1 or text.find('嘉禾路') != -1 or \\\n",
    "    text.find('湖滨南路') != -1 or text.find('软件园二期') != -1 or text.find('湖滨北路') != -1 or \\\n",
    "    text.find(\"何厝\") != -1 or text.find(\"将军祠\") != -1 or text.find('环岛路') != -1 or text.find('仙岳路') != -1:\n",
    "        jobs_xmrc_d.loc[i,'城区'] = '思明'\n",
    "    if text.find('翔安') != -1 or text.find('思明') != -1:\n",
    "        jobs_xmrc_d.loc[i,'城区'] = '翔安'\n",
    "    if text.find('集美') != -1 or text.find('软件园三期') != -1:\n",
    "        jobs_xmrc_d.loc[i,'城区'] = '集美'\n",
    "    if text.find('同安') != -1 or text.find('工业集中区') != -1:\n",
    "        jobs_xmrc_d.loc[i,'城区'] = '同安'\n",
    "    if text.find('海沧') != -1:\n",
    "        jobs_xmrc_d.loc[i,'城区'] = '海沧'"
   ]
  },
  {
   "cell_type": "code",
   "execution_count": 47,
   "metadata": {},
   "outputs": [
    {
     "data": {
      "text/plain": [
       "927"
      ]
     },
     "execution_count": 47,
     "metadata": {},
     "output_type": "execute_result"
    }
   ],
   "source": [
    "#仍有部分未能匹配出城区，有些是只说明城市道路，还有些外来的工作岗位\n",
    "len(jobs_xmrc_d[jobs_xmrc_d['城区'].isnull()])"
   ]
  },
  {
   "cell_type": "code",
   "execution_count": 48,
   "metadata": {},
   "outputs": [],
   "source": [
    "jobs_xmrc_d.loc[jobs_xmrc_d['城区'].isnull(),'城区'] = '厦门其他'"
   ]
  },
  {
   "cell_type": "code",
   "execution_count": 49,
   "metadata": {},
   "outputs": [],
   "source": [
    "#jobs_xmrc_d[jobs_xmrc_d['城区']=='翔安']"
   ]
  },
  {
   "cell_type": "code",
   "execution_count": 50,
   "metadata": {},
   "outputs": [
    {
     "data": {
      "text/html": [
       "<div>\n",
       "<style scoped>\n",
       "    .dataframe tbody tr th:only-of-type {\n",
       "        vertical-align: middle;\n",
       "    }\n",
       "\n",
       "    .dataframe tbody tr th {\n",
       "        vertical-align: top;\n",
       "    }\n",
       "\n",
       "    .dataframe thead th {\n",
       "        text-align: right;\n",
       "    }\n",
       "</style>\n",
       "<table border=\"1\" class=\"dataframe\">\n",
       "  <thead>\n",
       "    <tr style=\"text-align: right;\">\n",
       "      <th></th>\n",
       "      <th>职位名称</th>\n",
       "      <th>公司名称</th>\n",
       "      <th>招聘日期</th>\n",
       "      <th>截止日期</th>\n",
       "      <th>联系人</th>\n",
       "      <th>通信地址</th>\n",
       "      <th>学历要求</th>\n",
       "      <th>性别要求</th>\n",
       "      <th>职位性质</th>\n",
       "      <th>招聘对象</th>\n",
       "      <th>工作地点</th>\n",
       "      <th>参考月薪</th>\n",
       "      <th>上班时间</th>\n",
       "      <th>薪资福利</th>\n",
       "      <th>岗位职责</th>\n",
       "      <th>salary_L</th>\n",
       "      <th>salary_U</th>\n",
       "      <th>salary_A</th>\n",
       "      <th>salary_cls</th>\n",
       "      <th>城区</th>\n",
       "    </tr>\n",
       "  </thead>\n",
       "  <tbody>\n",
       "    <tr>\n",
       "      <th>0</th>\n",
       "      <td>项目营销助理</td>\n",
       "      <td>厦门聚点互动营销策划有限公司</td>\n",
       "      <td>2018-09-06</td>\n",
       "      <td>2018-10-06 14:57</td>\n",
       "      <td>杨小姐(HR)</td>\n",
       "      <td>中国（福建）自由贸易试验区厦门片区双狮山路28号一楼182之三十五(361100)</td>\n",
       "      <td>高中以上</td>\n",
       "      <td>不限</td>\n",
       "      <td>全职</td>\n",
       "      <td>一年工作经验以上</td>\n",
       "      <td>福建省、厦门市同安区</td>\n",
       "      <td>3500-7000元/月(底薪：3500-7000元/月+提成)</td>\n",
       "      <td>8.0小时/天</td>\n",
       "      <td>三险、绩效奖金、交通补贴、出差补贴、通讯补贴、餐饮补贴、节日福利、专业培训、员工旅游、每年多...</td>\n",
       "      <td>一、岗位职责：1、泛家居建材活动执行的数据管理2、泛家居建材活动执行的物料管理3、泛家居建材...</td>\n",
       "      <td>3500</td>\n",
       "      <td>7000</td>\n",
       "      <td>5250</td>\n",
       "      <td>3</td>\n",
       "      <td>同安</td>\n",
       "    </tr>\n",
       "    <tr>\n",
       "      <th>1</th>\n",
       "      <td>项目营销策划经理</td>\n",
       "      <td>厦门聚点互动营销策划有限公司</td>\n",
       "      <td>2018-09-06</td>\n",
       "      <td>2018-10-06 14:57</td>\n",
       "      <td>杨小姐(HR)</td>\n",
       "      <td>中国（福建）自由贸易试验区厦门片区双狮山路28号一楼182之三十五(361100)</td>\n",
       "      <td>大专以上</td>\n",
       "      <td>不限</td>\n",
       "      <td>全职</td>\n",
       "      <td>三年工作经验以上</td>\n",
       "      <td>厦门市同安区、福建省</td>\n",
       "      <td>5000-8000元/月(底薪：5000-8000元/月+提成)</td>\n",
       "      <td>8.0小时/天</td>\n",
       "      <td>五险、绩效奖金、出差补贴、节日福利、专业培训、员工旅游、每年多次调薪、全勤奖、包吃、包住、无...</td>\n",
       "      <td>：1、在公司授权下，代表公司对活动项目进行直接管理，对项目进行全程的管理和控制，确保项目按目...</td>\n",
       "      <td>5000</td>\n",
       "      <td>8000</td>\n",
       "      <td>6500</td>\n",
       "      <td>3</td>\n",
       "      <td>同安</td>\n",
       "    </tr>\n",
       "    <tr>\n",
       "      <th>2</th>\n",
       "      <td>护工</td>\n",
       "      <td>厦门艾德尔医疗科技有限公司</td>\n",
       "      <td>2018-09-06</td>\n",
       "      <td>2018-09-26 10:23</td>\n",
       "      <td>朱雷(经理)</td>\n",
       "      <td>厦门市湖里区湖里大道18号联发文创口岸7号楼517(361000)(合则约见、非请勿访)</td>\n",
       "      <td>不限</td>\n",
       "      <td>男</td>\n",
       "      <td>全职</td>\n",
       "      <td>不限</td>\n",
       "      <td>厦门市翔安区</td>\n",
       "      <td>3500-4000元/月</td>\n",
       "      <td>8.0小时/天</td>\n",
       "      <td>五险、绩效奖金</td>\n",
       "      <td>NaN</td>\n",
       "      <td>3500</td>\n",
       "      <td>4000</td>\n",
       "      <td>3750</td>\n",
       "      <td>2</td>\n",
       "      <td>翔安</td>\n",
       "    </tr>\n",
       "    <tr>\n",
       "      <th>3</th>\n",
       "      <td>销售人员</td>\n",
       "      <td>金顶置业（上海）有限公司</td>\n",
       "      <td>2018-09-05</td>\n",
       "      <td>2018-10-05 10:33</td>\n",
       "      <td>余小姐(HRM)</td>\n",
       "      <td>厦门市思明区演武西路188号世茂海峡大厦B塔1807室(361000)(合则约见、非请勿访)</td>\n",
       "      <td>本科以上</td>\n",
       "      <td>不限</td>\n",
       "      <td>全职</td>\n",
       "      <td>不限</td>\n",
       "      <td>厦门市思明区</td>\n",
       "      <td>10000-20000元/月(底薪：5000-6000元/月+提成)</td>\n",
       "      <td>7.5小时/天</td>\n",
       "      <td>五险、住房公积金、商业保险、带薪年假、绩效奖金、节日福利、定期体检、出国机会</td>\n",
       "      <td>：1. 通过电销、展会、市场活动等方式进行高净值客户的开发和维护；2. 根据客户的实力定制房...</td>\n",
       "      <td>10000</td>\n",
       "      <td>20000</td>\n",
       "      <td>15000</td>\n",
       "      <td>5</td>\n",
       "      <td>思明</td>\n",
       "    </tr>\n",
       "    <tr>\n",
       "      <th>4</th>\n",
       "      <td>成本管理员 （统计员）</td>\n",
       "      <td>厦门奋斗餐饮管理有限公司</td>\n",
       "      <td>2018-09-06</td>\n",
       "      <td>2018-10-06 14:57</td>\n",
       "      <td>郑小姐(人力资源部经理)</td>\n",
       "      <td>厦门市思明区嘉禾路明发商业广场3楼(361007)</td>\n",
       "      <td>不限</td>\n",
       "      <td>不限</td>\n",
       "      <td>全职</td>\n",
       "      <td>一年工作经验以上</td>\n",
       "      <td>厦门市同安区</td>\n",
       "      <td>2800-3200元/月</td>\n",
       "      <td>NaN</td>\n",
       "      <td>加班补贴、节日福利、员工旅游、全勤奖、包吃、包住</td>\n",
       "      <td>:1、负责仓库所有的账务处理。2、负责仓库单据打印及整理归档。3、月盘、年中和年终盘点。任职...</td>\n",
       "      <td>2800</td>\n",
       "      <td>3200</td>\n",
       "      <td>3000</td>\n",
       "      <td>1</td>\n",
       "      <td>同安</td>\n",
       "    </tr>\n",
       "  </tbody>\n",
       "</table>\n",
       "</div>"
      ],
      "text/plain": [
       "          职位名称            公司名称        招聘日期              截止日期           联系人  \\\n",
       "0       项目营销助理  厦门聚点互动营销策划有限公司  2018-09-06  2018-10-06 14:57       杨小姐(HR)   \n",
       "1     项目营销策划经理  厦门聚点互动营销策划有限公司  2018-09-06  2018-10-06 14:57       杨小姐(HR)   \n",
       "2           护工   厦门艾德尔医疗科技有限公司  2018-09-06  2018-09-26 10:23        朱雷(经理)   \n",
       "3         销售人员    金顶置业（上海）有限公司  2018-09-05  2018-10-05 10:33      余小姐(HRM)   \n",
       "4  成本管理员 （统计员）    厦门奋斗餐饮管理有限公司  2018-09-06  2018-10-06 14:57  郑小姐(人力资源部经理)   \n",
       "\n",
       "                                             通信地址  学历要求 性别要求 职位性质      招聘对象  \\\n",
       "0       中国（福建）自由贸易试验区厦门片区双狮山路28号一楼182之三十五(361100)  高中以上   不限   全职  一年工作经验以上   \n",
       "1       中国（福建）自由贸易试验区厦门片区双狮山路28号一楼182之三十五(361100)  大专以上   不限   全职  三年工作经验以上   \n",
       "2    厦门市湖里区湖里大道18号联发文创口岸7号楼517(361000)(合则约见、非请勿访)    不限    男   全职        不限   \n",
       "3  厦门市思明区演武西路188号世茂海峡大厦B塔1807室(361000)(合则约见、非请勿访)  本科以上   不限   全职        不限   \n",
       "4                       厦门市思明区嘉禾路明发商业广场3楼(361007)    不限   不限   全职  一年工作经验以上   \n",
       "\n",
       "         工作地点                                参考月薪     上班时间  \\\n",
       "0  福建省、厦门市同安区    3500-7000元/月(底薪：3500-7000元/月+提成)  8.0小时/天   \n",
       "1  厦门市同安区、福建省    5000-8000元/月(底薪：5000-8000元/月+提成)  8.0小时/天   \n",
       "2      厦门市翔安区                        3500-4000元/月  8.0小时/天   \n",
       "3      厦门市思明区  10000-20000元/月(底薪：5000-6000元/月+提成)  7.5小时/天   \n",
       "4      厦门市同安区                        2800-3200元/月      NaN   \n",
       "\n",
       "                                                薪资福利  \\\n",
       "0  三险、绩效奖金、交通补贴、出差补贴、通讯补贴、餐饮补贴、节日福利、专业培训、员工旅游、每年多...   \n",
       "1  五险、绩效奖金、出差补贴、节日福利、专业培训、员工旅游、每年多次调薪、全勤奖、包吃、包住、无...   \n",
       "2                                            五险、绩效奖金   \n",
       "3             五险、住房公积金、商业保险、带薪年假、绩效奖金、节日福利、定期体检、出国机会   \n",
       "4                           加班补贴、节日福利、员工旅游、全勤奖、包吃、包住   \n",
       "\n",
       "                                                岗位职责  salary_L  salary_U  \\\n",
       "0  一、岗位职责：1、泛家居建材活动执行的数据管理2、泛家居建材活动执行的物料管理3、泛家居建材...      3500      7000   \n",
       "1  ：1、在公司授权下，代表公司对活动项目进行直接管理，对项目进行全程的管理和控制，确保项目按目...      5000      8000   \n",
       "2                                                NaN      3500      4000   \n",
       "3  ：1. 通过电销、展会、市场活动等方式进行高净值客户的开发和维护；2. 根据客户的实力定制房...     10000     20000   \n",
       "4  :1、负责仓库所有的账务处理。2、负责仓库单据打印及整理归档。3、月盘、年中和年终盘点。任职...      2800      3200   \n",
       "\n",
       "   salary_A  salary_cls  城区  \n",
       "0      5250           3  同安  \n",
       "1      6500           3  同安  \n",
       "2      3750           2  翔安  \n",
       "3     15000           5  思明  \n",
       "4      3000           1  同安  "
      ]
     },
     "execution_count": 50,
     "metadata": {},
     "output_type": "execute_result"
    }
   ],
   "source": [
    "jobs_xmrc_d.head()"
   ]
  },
  {
   "cell_type": "code",
   "execution_count": 51,
   "metadata": {},
   "outputs": [
    {
     "data": {
      "text/plain": [
       "array(['同安', '翔安', '思明', '湖里', '集美', '海沧', '厦门其他'], dtype=object)"
      ]
     },
     "execution_count": 51,
     "metadata": {},
     "output_type": "execute_result"
    }
   ],
   "source": [
    "jobs_xmrc_d.城区.unique()"
   ]
  },
  {
   "cell_type": "code",
   "execution_count": 52,
   "metadata": {},
   "outputs": [
    {
     "data": {
      "text/html": [
       "<div>\n",
       "<style scoped>\n",
       "    .dataframe tbody tr th:only-of-type {\n",
       "        vertical-align: middle;\n",
       "    }\n",
       "\n",
       "    .dataframe tbody tr th {\n",
       "        vertical-align: top;\n",
       "    }\n",
       "\n",
       "    .dataframe thead th {\n",
       "        text-align: right;\n",
       "    }\n",
       "</style>\n",
       "<table border=\"1\" class=\"dataframe\">\n",
       "  <thead>\n",
       "    <tr style=\"text-align: right;\">\n",
       "      <th></th>\n",
       "      <th>城区</th>\n",
       "      <th>职位名称</th>\n",
       "      <th>pct</th>\n",
       "    </tr>\n",
       "  </thead>\n",
       "  <tbody>\n",
       "    <tr>\n",
       "      <th>0</th>\n",
       "      <td>厦门其他</td>\n",
       "      <td>927</td>\n",
       "      <td>0.019983</td>\n",
       "    </tr>\n",
       "    <tr>\n",
       "      <th>1</th>\n",
       "      <td>同安</td>\n",
       "      <td>5042</td>\n",
       "      <td>0.108687</td>\n",
       "    </tr>\n",
       "    <tr>\n",
       "      <th>2</th>\n",
       "      <td>思明</td>\n",
       "      <td>16020</td>\n",
       "      <td>0.345333</td>\n",
       "    </tr>\n",
       "    <tr>\n",
       "      <th>3</th>\n",
       "      <td>海沧</td>\n",
       "      <td>3108</td>\n",
       "      <td>0.066997</td>\n",
       "    </tr>\n",
       "    <tr>\n",
       "      <th>4</th>\n",
       "      <td>湖里</td>\n",
       "      <td>12933</td>\n",
       "      <td>0.278789</td>\n",
       "    </tr>\n",
       "    <tr>\n",
       "      <th>5</th>\n",
       "      <td>翔安</td>\n",
       "      <td>2465</td>\n",
       "      <td>0.053136</td>\n",
       "    </tr>\n",
       "    <tr>\n",
       "      <th>6</th>\n",
       "      <td>集美</td>\n",
       "      <td>5895</td>\n",
       "      <td>0.127075</td>\n",
       "    </tr>\n",
       "  </tbody>\n",
       "</table>\n",
       "</div>"
      ],
      "text/plain": [
       "     城区   职位名称       pct\n",
       "0  厦门其他    927  0.019983\n",
       "1    同安   5042  0.108687\n",
       "2    思明  16020  0.345333\n",
       "3    海沧   3108  0.066997\n",
       "4    湖里  12933  0.278789\n",
       "5    翔安   2465  0.053136\n",
       "6    集美   5895  0.127075"
      ]
     },
     "execution_count": 52,
     "metadata": {},
     "output_type": "execute_result"
    }
   ],
   "source": [
    "jobs_d_count = jobs_xmrc_d.groupby('城区',as_index=False).count()[['城区','职位名称']]\n",
    "jobs_d_count['pct'] = jobs_d_count['职位名称']/jobs_d_count['职位名称'].sum()\n",
    "jobs_d_count"
   ]
  },
  {
   "cell_type": "code",
   "execution_count": 66,
   "metadata": {},
   "outputs": [
    {
     "data": {
      "text/html": [
       "<div>\n",
       "<style scoped>\n",
       "    .dataframe tbody tr th:only-of-type {\n",
       "        vertical-align: middle;\n",
       "    }\n",
       "\n",
       "    .dataframe tbody tr th {\n",
       "        vertical-align: top;\n",
       "    }\n",
       "\n",
       "    .dataframe thead th {\n",
       "        text-align: right;\n",
       "    }\n",
       "</style>\n",
       "<table border=\"1\" class=\"dataframe\">\n",
       "  <thead>\n",
       "    <tr style=\"text-align: right;\">\n",
       "      <th></th>\n",
       "      <th>城区</th>\n",
       "      <th>职位名称</th>\n",
       "      <th>pct</th>\n",
       "    </tr>\n",
       "  </thead>\n",
       "  <tbody>\n",
       "    <tr>\n",
       "      <th>2</th>\n",
       "      <td>思明</td>\n",
       "      <td>16020</td>\n",
       "      <td>0.345333</td>\n",
       "    </tr>\n",
       "    <tr>\n",
       "      <th>4</th>\n",
       "      <td>湖里</td>\n",
       "      <td>12933</td>\n",
       "      <td>0.278789</td>\n",
       "    </tr>\n",
       "    <tr>\n",
       "      <th>6</th>\n",
       "      <td>集美</td>\n",
       "      <td>5895</td>\n",
       "      <td>0.127075</td>\n",
       "    </tr>\n",
       "    <tr>\n",
       "      <th>1</th>\n",
       "      <td>同安</td>\n",
       "      <td>5042</td>\n",
       "      <td>0.108687</td>\n",
       "    </tr>\n",
       "    <tr>\n",
       "      <th>3</th>\n",
       "      <td>海沧</td>\n",
       "      <td>3108</td>\n",
       "      <td>0.066997</td>\n",
       "    </tr>\n",
       "    <tr>\n",
       "      <th>5</th>\n",
       "      <td>翔安</td>\n",
       "      <td>2465</td>\n",
       "      <td>0.053136</td>\n",
       "    </tr>\n",
       "    <tr>\n",
       "      <th>0</th>\n",
       "      <td>厦门其他</td>\n",
       "      <td>927</td>\n",
       "      <td>0.019983</td>\n",
       "    </tr>\n",
       "  </tbody>\n",
       "</table>\n",
       "</div>"
      ],
      "text/plain": [
       "     城区   职位名称       pct\n",
       "2    思明  16020  0.345333\n",
       "4    湖里  12933  0.278789\n",
       "6    集美   5895  0.127075\n",
       "1    同安   5042  0.108687\n",
       "3    海沧   3108  0.066997\n",
       "5    翔安   2465  0.053136\n",
       "0  厦门其他    927  0.019983"
      ]
     },
     "execution_count": 66,
     "metadata": {},
     "output_type": "execute_result"
    }
   ],
   "source": [
    "jobs_d_count = jobs_d_count.sort_values(by='pct',ascending=False)\n",
    "jobs_d_count"
   ]
  },
  {
   "cell_type": "code",
   "execution_count": 67,
   "metadata": {},
   "outputs": [
    {
     "data": {
      "text/plain": [
       "['思明', '湖里', '集美', '同安', '海沧', '翔安', '厦门其他']"
      ]
     },
     "execution_count": 67,
     "metadata": {},
     "output_type": "execute_result"
    }
   ],
   "source": [
    "list(jobs_d_count.城区)"
   ]
  },
  {
   "cell_type": "code",
   "execution_count": 87,
   "metadata": {},
   "outputs": [
    {
     "data": {
      "text/html": [
       "<script>\n",
       "    require.config({\n",
       "        paths: {\n",
       "            'echarts': '/nbextensions/echarts/echarts.min'\n",
       "        }\n",
       "    });\n",
       "</script>\n",
       "    <div id=\"5ad0fb1d3ab04c6e98cd250ada7dbd78\" style=\"width:900px;height:400px;\"></div>\n",
       "\n",
       "\n",
       "<script>\n",
       "    require(['echarts'], function(echarts) {\n",
       "        \n",
       "var myChart_5ad0fb1d3ab04c6e98cd250ada7dbd78 = echarts.init(document.getElementById('5ad0fb1d3ab04c6e98cd250ada7dbd78'), 'light', {renderer: 'canvas'});\n",
       "\n",
       "var option_5ad0fb1d3ab04c6e98cd250ada7dbd78 = {\n",
       "    \"title\": [\n",
       "        {\n",
       "            \"text\": \"\\u53a6\\u95e8\\u5404\\u533a\\u62db\\u8058\\u9700\\u6c42\\u5360\\u6bd4(%)\",\n",
       "            \"left\": \"center\",\n",
       "            \"top\": \"auto\",\n",
       "            \"textStyle\": {\n",
       "                \"fontSize\": 18\n",
       "            },\n",
       "            \"subtextStyle\": {\n",
       "                \"fontSize\": 12\n",
       "            }\n",
       "        }\n",
       "    ],\n",
       "    \"toolbox\": {\n",
       "        \"show\": true,\n",
       "        \"orient\": \"vertical\",\n",
       "        \"left\": \"95%\",\n",
       "        \"top\": \"center\",\n",
       "        \"feature\": {\n",
       "            \"saveAsImage\": {\n",
       "                \"show\": true,\n",
       "                \"title\": \"save as image\"\n",
       "            },\n",
       "            \"restore\": {\n",
       "                \"show\": true,\n",
       "                \"title\": \"restore\"\n",
       "            },\n",
       "            \"dataView\": {\n",
       "                \"show\": true,\n",
       "                \"title\": \"data view\"\n",
       "            }\n",
       "        }\n",
       "    },\n",
       "    \"series_id\": 496592,\n",
       "    \"tooltip\": {\n",
       "        \"trigger\": \"item\",\n",
       "        \"triggerOn\": \"mousemove|click\",\n",
       "        \"axisPointer\": {\n",
       "            \"type\": \"line\"\n",
       "        },\n",
       "        \"textStyle\": {\n",
       "            \"fontSize\": 14\n",
       "        },\n",
       "        \"backgroundColor\": \"rgba(50,50,50,0.7)\",\n",
       "        \"borderColor\": \"#333\",\n",
       "        \"borderWidth\": 0\n",
       "    },\n",
       "    \"series\": [\n",
       "        {\n",
       "            \"type\": \"bar\",\n",
       "            \"data\": [\n",
       "                34.5,\n",
       "                27.9,\n",
       "                12.7,\n",
       "                10.9,\n",
       "                6.7,\n",
       "                5.3,\n",
       "                2.0\n",
       "            ],\n",
       "            \"barCategoryGap\": \"20%\",\n",
       "            \"label\": {\n",
       "                \"normal\": {\n",
       "                    \"show\": true,\n",
       "                    \"position\": \"top\",\n",
       "                    \"textStyle\": {\n",
       "                        \"fontSize\": 12\n",
       "                    }\n",
       "                },\n",
       "                \"emphasis\": {\n",
       "                    \"show\": true,\n",
       "                    \"textStyle\": {\n",
       "                        \"fontSize\": 12\n",
       "                    }\n",
       "                }\n",
       "            },\n",
       "            \"markPoint\": {\n",
       "                \"data\": []\n",
       "            },\n",
       "            \"markLine\": {\n",
       "                \"data\": []\n",
       "            },\n",
       "            \"seriesId\": 496592\n",
       "        }\n",
       "    ],\n",
       "    \"legend\": [\n",
       "        {\n",
       "            \"data\": [\n",
       "                \"\"\n",
       "            ],\n",
       "            \"selectedMode\": \"multiple\",\n",
       "            \"show\": false,\n",
       "            \"left\": \"center\",\n",
       "            \"top\": \"top\",\n",
       "            \"orient\": \"horizontal\",\n",
       "            \"textStyle\": {\n",
       "                \"fontSize\": 12\n",
       "            }\n",
       "        }\n",
       "    ],\n",
       "    \"animation\": true,\n",
       "    \"xAxis\": [\n",
       "        {\n",
       "            \"show\": true,\n",
       "            \"nameLocation\": \"middle\",\n",
       "            \"nameGap\": 25,\n",
       "            \"nameTextStyle\": {\n",
       "                \"fontSize\": 14\n",
       "            },\n",
       "            \"axisTick\": {\n",
       "                \"alignWithLabel\": false\n",
       "            },\n",
       "            \"inverse\": false,\n",
       "            \"boundaryGap\": true,\n",
       "            \"type\": \"category\",\n",
       "            \"splitLine\": {\n",
       "                \"show\": false\n",
       "            },\n",
       "            \"axisLine\": {\n",
       "                \"lineStyle\": {\n",
       "                    \"width\": 1\n",
       "                }\n",
       "            },\n",
       "            \"axisLabel\": {\n",
       "                \"interval\": \"auto\",\n",
       "                \"rotate\": 0,\n",
       "                \"margin\": 8,\n",
       "                \"textStyle\": {\n",
       "                    \"fontSize\": 12\n",
       "                }\n",
       "            },\n",
       "            \"data\": [\n",
       "                \"\\u601d\\u660e\",\n",
       "                \"\\u6e56\\u91cc\",\n",
       "                \"\\u96c6\\u7f8e\",\n",
       "                \"\\u540c\\u5b89\",\n",
       "                \"\\u6d77\\u6ca7\",\n",
       "                \"\\u7fd4\\u5b89\",\n",
       "                \"\\u53a6\\u95e8\\u5176\\u4ed6\"\n",
       "            ]\n",
       "        }\n",
       "    ],\n",
       "    \"yAxis\": [\n",
       "        {\n",
       "            \"show\": true,\n",
       "            \"nameLocation\": \"middle\",\n",
       "            \"nameGap\": 25,\n",
       "            \"nameTextStyle\": {\n",
       "                \"fontSize\": 14\n",
       "            },\n",
       "            \"axisTick\": {\n",
       "                \"alignWithLabel\": false\n",
       "            },\n",
       "            \"inverse\": false,\n",
       "            \"boundaryGap\": true,\n",
       "            \"type\": \"value\",\n",
       "            \"splitLine\": {\n",
       "                \"show\": true\n",
       "            },\n",
       "            \"axisLine\": {\n",
       "                \"lineStyle\": {\n",
       "                    \"width\": 1\n",
       "                }\n",
       "            },\n",
       "            \"axisLabel\": {\n",
       "                \"interval\": \"auto\",\n",
       "                \"formatter\": \"{value} \",\n",
       "                \"rotate\": 0,\n",
       "                \"margin\": 8,\n",
       "                \"textStyle\": {\n",
       "                    \"fontSize\": 12\n",
       "                }\n",
       "            }\n",
       "        }\n",
       "    ],\n",
       "    \"color\": [\n",
       "        \"#c23531\",\n",
       "        \"#2f4554\",\n",
       "        \"#61a0a8\",\n",
       "        \"#d48265\",\n",
       "        \"#749f83\",\n",
       "        \"#ca8622\",\n",
       "        \"#bda29a\",\n",
       "        \"#6e7074\",\n",
       "        \"#546570\",\n",
       "        \"#c4ccd3\",\n",
       "        \"#f05b72\",\n",
       "        \"#ef5b9c\",\n",
       "        \"#f47920\",\n",
       "        \"#905a3d\",\n",
       "        \"#fab27b\",\n",
       "        \"#2a5caa\",\n",
       "        \"#444693\",\n",
       "        \"#726930\",\n",
       "        \"#b2d235\",\n",
       "        \"#6d8346\",\n",
       "        \"#ac6767\",\n",
       "        \"#1d953f\",\n",
       "        \"#6950a1\",\n",
       "        \"#918597\",\n",
       "        \"#f6f5ec\"\n",
       "    ]\n",
       "};\n",
       "myChart_5ad0fb1d3ab04c6e98cd250ada7dbd78.setOption(option_5ad0fb1d3ab04c6e98cd250ada7dbd78);\n",
       "\n",
       "    });\n",
       "</script>\n"
      ],
      "text/plain": [
       "<pyecharts.charts.bar.Bar at 0x1a2914e128>"
      ]
     },
     "execution_count": 87,
     "metadata": {},
     "output_type": "execute_result"
    }
   ],
   "source": [
    "from pyecharts import Bar\n",
    "\n",
    "attr = ['思明', '湖里', '集美', '同安', '海沧', '翔安', '厦门其他']\n",
    "v1 = [34.5, 27.9, 12.7, 10.9, 6.7, 5.3, 2.0]\n",
    "bar = Bar(\"厦门各区招聘需求占比(%)\",title_pos='center', width=900)\n",
    "bar.add(\"\", attr, v1, is_label_show=True,is_legend_show=False)\n",
    "bar"
   ]
  },
  {
   "cell_type": "markdown",
   "metadata": {},
   "source": [
    "需求量最多的是岛内两个区-思明区和湖里区，总占比达62.4%，超过半数了。  \n",
    "原本以为在岛内岛外人口数量基本持平的情况下,随着政策是将人才更多地引向岛外，且目前岛外这几个区也都建有不少工业区，应该会是岛外的招聘需求多于岛内，而从厦门人才网的招聘数据来看，还是岛内比较多。  "
   ]
  },
  {
   "cell_type": "code",
   "execution_count": 54,
   "metadata": {},
   "outputs": [
    {
     "data": {
      "image/png": "[encoded data removed]",
      "text/plain": [
       "<Figure size 720x432 with 1 Axes>"
      ]
     },
     "metadata": {},
     "output_type": "display_data"
    }
   ],
   "source": [
    "def draw_boxplot(data,x,y):\n",
    "    fig, ax = plt.subplots(1,1,figsize=(10,6))\n",
    "    ax = sns.boxplot(x=x,y=y,data=data)\n",
    "    ax.set(title='厦门各区招聘薪资情况',xlabel='\\n' + '厦门区域',ylabel='薪资 (元)')\n",
    "    ax.set_ylim([0,40000])\n",
    "    \n",
    "    fig.savefig('厦门各区招聘薪资情况.png')\n",
    "    \n",
    "draw_boxplot(jobs_xmrc_d,'城区','salary_A')"
   ]
  },
  {
   "cell_type": "code",
   "execution_count": 55,
   "metadata": {},
   "outputs": [],
   "source": [
    "jobs_xmrc_dc = jobs_xmrc_d[['职位名称','salary_A','城区']]\n",
    "jobs_xmrc_dcg = jobs_xmrc_dc.groupby(['salary_A','城区'],as_index=False).count()"
   ]
  },
  {
   "cell_type": "code",
   "execution_count": 56,
   "metadata": {},
   "outputs": [
    {
     "data": {
      "text/html": [
       "<div>\n",
       "<style scoped>\n",
       "    .dataframe tbody tr th:only-of-type {\n",
       "        vertical-align: middle;\n",
       "    }\n",
       "\n",
       "    .dataframe tbody tr th {\n",
       "        vertical-align: top;\n",
       "    }\n",
       "\n",
       "    .dataframe thead th {\n",
       "        text-align: right;\n",
       "    }\n",
       "</style>\n",
       "<table border=\"1\" class=\"dataframe\">\n",
       "  <thead>\n",
       "    <tr style=\"text-align: right;\">\n",
       "      <th></th>\n",
       "      <th>salary_A</th>\n",
       "      <th>城区</th>\n",
       "      <th>职位名称</th>\n",
       "    </tr>\n",
       "  </thead>\n",
       "  <tbody>\n",
       "    <tr>\n",
       "      <th>0</th>\n",
       "      <td>1</td>\n",
       "      <td>思明</td>\n",
       "      <td>4</td>\n",
       "    </tr>\n",
       "    <tr>\n",
       "      <th>1</th>\n",
       "      <td>1</td>\n",
       "      <td>湖里</td>\n",
       "      <td>1</td>\n",
       "    </tr>\n",
       "    <tr>\n",
       "      <th>2</th>\n",
       "      <td>5</td>\n",
       "      <td>思明</td>\n",
       "      <td>3</td>\n",
       "    </tr>\n",
       "    <tr>\n",
       "      <th>3</th>\n",
       "      <td>6</td>\n",
       "      <td>思明</td>\n",
       "      <td>1</td>\n",
       "    </tr>\n",
       "    <tr>\n",
       "      <th>4</th>\n",
       "      <td>7</td>\n",
       "      <td>湖里</td>\n",
       "      <td>2</td>\n",
       "    </tr>\n",
       "  </tbody>\n",
       "</table>\n",
       "</div>"
      ],
      "text/plain": [
       "   salary_A  城区  职位名称\n",
       "0         1  思明     4\n",
       "1         1  湖里     1\n",
       "2         5  思明     3\n",
       "3         6  思明     1\n",
       "4         7  湖里     2"
      ]
     },
     "execution_count": 56,
     "metadata": {},
     "output_type": "execute_result"
    }
   ],
   "source": [
    "jobs_xmrc_dcg.head()"
   ]
  },
  {
   "cell_type": "code",
   "execution_count": 57,
   "metadata": {},
   "outputs": [
    {
     "data": {
      "text/plain": [
       "[Text(0,0.5,'数量'), Text(0.5,0,'薪资 （元/月）'), Text(0.5,1,'不同城区薪资分布')]"
      ]
     },
     "execution_count": 57,
     "metadata": {},
     "output_type": "execute_result"
    },
    {
     "data": {
      "image/png": "[encoded data removed]",
      "text/plain": [
       "<Figure size 864x432 with 1 Axes>"
      ]
     },
     "metadata": {},
     "output_type": "display_data"
    }
   ],
   "source": [
    "fig, ax = plt.subplots(1,1,figsize=(12,6))\n",
    "ax = sns.scatterplot(x='salary_A',y='职位名称',data=jobs_xmrc_dcg,color='k')\n",
    "ax.set(title='不同城区薪资分布',xlabel='薪资 （元/月）',ylabel='数量')\n"
   ]
  },
  {
   "cell_type": "code",
   "execution_count": null,
   "metadata": {},
   "outputs": [],
   "source": []
  }
 ],
 "metadata": {
  "kernelspec": {
   "display_name": "Python 3",
   "language": "python",
   "name": "python3"
  },
  "language_info": {
   "codemirror_mode": {
    "name": "ipython",
    "version": 3
   },
   "file_extension": ".py",
   "mimetype": "text/x-python",
   "name": "python",
   "nbconvert_exporter": "python",
   "pygments_lexer": "ipython3",
   "version": "3.6.4"
  }
 },
 "nbformat": 4,
 "nbformat_minor": 2
}
